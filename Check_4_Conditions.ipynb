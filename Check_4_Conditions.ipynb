{
  "nbformat": 4,
  "nbformat_minor": 0,
  "metadata": {
    "colab": {
      "name": "Check_4_Conditions.ipynb",
      "provenance": [],
      "toc_visible": true,
      "authorship_tag": "ABX9TyNMAwyLzvOBqxAU9BFYWJK0",
      "include_colab_link": true
    },
    "kernelspec": {
      "name": "python3",
      "display_name": "Python 3"
    }
  },
  "cells": [
    {
      "cell_type": "markdown",
      "metadata": {
        "id": "view-in-github",
        "colab_type": "text"
      },
      "source": [
        "<a href=\"https://colab.research.google.com/github/javajaewook/2020-2_NLP/blob/master/Check_4_Conditions.ipynb\" target=\"_parent\"><img src=\"https://colab.research.google.com/assets/colab-badge.svg\" alt=\"Open In Colab\"/></a>"
      ]
    },
    {
      "cell_type": "code",
      "metadata": {
        "colab": {
          "base_uri": "https://localhost:8080/"
        },
        "id": "zi4aIZ_0plvl",
        "outputId": "c1c4d712-0839-4f07-d0eb-6931c29d05d4"
      },
      "source": [
        "!pip install konlpy"
      ],
      "execution_count": 6,
      "outputs": [
        {
          "output_type": "stream",
          "text": [
            "Requirement already satisfied: konlpy in /usr/local/lib/python3.6/dist-packages (0.5.2)\n",
            "Requirement already satisfied: lxml>=4.1.0 in /usr/local/lib/python3.6/dist-packages (from konlpy) (4.2.6)\n",
            "Requirement already satisfied: JPype1>=0.7.0 in /usr/local/lib/python3.6/dist-packages (from konlpy) (1.2.0)\n",
            "Requirement already satisfied: tweepy>=3.7.0 in /usr/local/lib/python3.6/dist-packages (from konlpy) (3.9.0)\n",
            "Requirement already satisfied: colorama in /usr/local/lib/python3.6/dist-packages (from konlpy) (0.4.4)\n",
            "Requirement already satisfied: beautifulsoup4==4.6.0 in /usr/local/lib/python3.6/dist-packages (from konlpy) (4.6.0)\n",
            "Requirement already satisfied: numpy>=1.6 in /usr/local/lib/python3.6/dist-packages (from konlpy) (1.19.4)\n",
            "Requirement already satisfied: typing-extensions; python_version < \"3.8\" in /usr/local/lib/python3.6/dist-packages (from JPype1>=0.7.0->konlpy) (3.7.4.3)\n",
            "Requirement already satisfied: six>=1.10.0 in /usr/local/lib/python3.6/dist-packages (from tweepy>=3.7.0->konlpy) (1.15.0)\n",
            "Requirement already satisfied: requests-oauthlib>=0.7.0 in /usr/local/lib/python3.6/dist-packages (from tweepy>=3.7.0->konlpy) (1.3.0)\n",
            "Requirement already satisfied: requests[socks]>=2.11.1 in /usr/local/lib/python3.6/dist-packages (from tweepy>=3.7.0->konlpy) (2.23.0)\n",
            "Requirement already satisfied: oauthlib>=3.0.0 in /usr/local/lib/python3.6/dist-packages (from requests-oauthlib>=0.7.0->tweepy>=3.7.0->konlpy) (3.1.0)\n",
            "Requirement already satisfied: idna<3,>=2.5 in /usr/local/lib/python3.6/dist-packages (from requests[socks]>=2.11.1->tweepy>=3.7.0->konlpy) (2.10)\n",
            "Requirement already satisfied: certifi>=2017.4.17 in /usr/local/lib/python3.6/dist-packages (from requests[socks]>=2.11.1->tweepy>=3.7.0->konlpy) (2020.12.5)\n",
            "Requirement already satisfied: urllib3!=1.25.0,!=1.25.1,<1.26,>=1.21.1 in /usr/local/lib/python3.6/dist-packages (from requests[socks]>=2.11.1->tweepy>=3.7.0->konlpy) (1.24.3)\n",
            "Requirement already satisfied: chardet<4,>=3.0.2 in /usr/local/lib/python3.6/dist-packages (from requests[socks]>=2.11.1->tweepy>=3.7.0->konlpy) (3.0.4)\n",
            "Requirement already satisfied: PySocks!=1.5.7,>=1.5.6; extra == \"socks\" in /usr/local/lib/python3.6/dist-packages (from requests[socks]>=2.11.1->tweepy>=3.7.0->konlpy) (1.7.1)\n"
          ],
          "name": "stdout"
        }
      ]
    },
    {
      "cell_type": "markdown",
      "metadata": {
        "id": "As60Hzd_qy2M"
      },
      "source": [
        "# 임포트"
      ]
    },
    {
      "cell_type": "code",
      "metadata": {
        "id": "extLsTHcpukv"
      },
      "source": [
        "# 혹시 모르니 다 넣어놓는 import\r\n",
        "import pandas as pd\r\n",
        "import csv\r\n",
        "import numpy as np\r\n",
        "from konlpy.tag import Okt, Kkma\r\n",
        "import urllib.request\r\n",
        "import matplotlib.pyplot as plt\r\n",
        "import re\r\n",
        "import random\r\n",
        "from tensorflow.keras.preprocessing.text import Tokenizer\r\n",
        "from tensorflow.keras.preprocessing.sequence import pad_sequences\r\n",
        "from gensim.models import Word2Vec\r\n",
        "import copy\r\n",
        "import nltk\r\n",
        "\r\n",
        "%matplotlib inline"
      ],
      "execution_count": 7,
      "outputs": []
    },
    {
      "cell_type": "code",
      "metadata": {
        "colab": {
          "base_uri": "https://localhost:8080/"
        },
        "id": "FHr7NfmUqCns",
        "outputId": "3bb536fc-cff4-4c77-9d88-f866ee0bed7f"
      },
      "source": [
        "nltk.download('punkt')"
      ],
      "execution_count": 8,
      "outputs": [
        {
          "output_type": "stream",
          "text": [
            "[nltk_data] Downloading package punkt to /root/nltk_data...\n",
            "[nltk_data]   Package punkt is already up-to-date!\n"
          ],
          "name": "stdout"
        },
        {
          "output_type": "execute_result",
          "data": {
            "text/plain": [
              "True"
            ]
          },
          "metadata": {
            "tags": []
          },
          "execution_count": 8
        }
      ]
    },
    {
      "cell_type": "markdown",
      "metadata": {
        "id": "gDDEtDEnq1vX"
      },
      "source": [
        "# 분절"
      ]
    },
    {
      "cell_type": "code",
      "metadata": {
        "id": "ZAdg3Zm9qtOf"
      },
      "source": [
        "# 초성 리스트. 00 ~ 18\r\n",
        "CHOSUNG_LIST = ['ㄱ', 'ㄲ', 'ㄴ', 'ㄷ', 'ㄸ', 'ㄹ', 'ㅁ', 'ㅂ', 'ㅃ', 'ㅅ', 'ㅆ', 'ㅇ', 'ㅈ', 'ㅉ', 'ㅊ', 'ㅋ', 'ㅌ', 'ㅍ', 'ㅎ']\r\n",
        "# 중성 리스트. 00 ~ 20\r\n",
        "JUNGSUNG_LIST = ['ㅏ', 'ㅐ', 'ㅑ', 'ㅒ', 'ㅓ', 'ㅔ', 'ㅕ', 'ㅖ', 'ㅗ', 'ㅘ', 'ㅙ', 'ㅚ', 'ㅛ', 'ㅜ', 'ㅝ', 'ㅞ', 'ㅟ', 'ㅠ', 'ㅡ', 'ㅢ', 'ㅣ']\r\n",
        "# 종성 리스트. 00 ~ 27 + 1(1개 없음)\r\n",
        "JONGSUNG_LIST = [' ', 'ㄱ', 'ㄲ', 'ㄳ', 'ㄴ', 'ㄵ', 'ㄶ', 'ㄷ', 'ㄹ', 'ㄺ', 'ㄻ', 'ㄼ', 'ㄽ', 'ㄾ', 'ㄿ', 'ㅀ', 'ㅁ', 'ㅂ', 'ㅄ', 'ㅅ', 'ㅆ', 'ㅇ', 'ㅈ', 'ㅊ', 'ㅋ', 'ㅌ', 'ㅍ', 'ㅎ']\r\n",
        "\r\n",
        "def korean_split(korean_word):\r\n",
        "    r_lst = []\r\n",
        "    for w in list(korean_word.strip()):\r\n",
        "        ## 영어인 경우 구분해서 작성함. \r\n",
        "        if '가'<=w<='힣':\r\n",
        "            ## 588개 마다 초성이 바뀜. \r\n",
        "            ch1 = (ord(w) - ord('가'))//588\r\n",
        "            ## 중성은 총 28가지 종류\r\n",
        "            ch2 = ((ord(w) - ord('가')) - (588*ch1)) // 28\r\n",
        "            ch3 = (ord(w) - ord('가')) - (588*ch1) - 28*ch2\r\n",
        "            r_lst.append([CHOSUNG_LIST[ch1], JUNGSUNG_LIST[ch2], JONGSUNG_LIST[ch3]])\r\n",
        "        else:\r\n",
        "            r_lst.append([w])\r\n",
        "    return r_lst\r\n"
      ],
      "execution_count": 9,
      "outputs": []
    },
    {
      "cell_type": "markdown",
      "metadata": {
        "id": "suQTH5Rvq_lI"
      },
      "source": [
        "# 어절 분석\r\n",
        "\r\n",
        "분절은 korean_split(word)로 하면 됨"
      ]
    },
    {
      "cell_type": "markdown",
      "metadata": {
        "id": "UgUtKF0grCVd"
      },
      "source": [
        "## ㅇ 첨가\r\n",
        "조건 : 음절의 종성이 &nbsp;'ㅇ'<br>\r\n",
        "어절의 마지막 음절이 조건을 만족하는 어절을 추출 후 확인"
      ]
    },
    {
      "cell_type": "code",
      "metadata": {
        "id": "M6JGk0DvqvJH"
      },
      "source": [
        "def o_addition(word):\r\n",
        "    '''\r\n",
        "    Variables\r\n",
        "        word (String Literal, Argument) : 입력 한글 단어\r\n",
        "        flag (Boolean, Local) : ㅇ 첨가 규칙 만족 여부\r\n",
        "        syllable (List[List[char]], Local) : 단어의 분절 결과\r\n",
        "\r\n",
        "    Return\r\n",
        "        flag (Boolean, Local) : word의 ㅇ 첨가 규칙 만족 여부\r\n",
        "    '''\r\n",
        "    flag = False \r\n",
        "    syllable = korean_split(word)\r\n",
        "\r\n",
        "    target = syllable[-1][2] # 마지막 음절의 종성\r\n",
        "\r\n",
        "    if target == 'ㅇ':\r\n",
        "        flag = True\r\n",
        "    \r\n",
        "    return flag"
      ],
      "execution_count": 10,
      "outputs": []
    },
    {
      "cell_type": "code",
      "metadata": {
        "colab": {
          "base_uri": "https://localhost:8080/"
        },
        "id": "FAkz2J4irgLW",
        "outputId": "f0ee5b32-cdb4-4857-9695-44cbcdecd364"
      },
      "source": [
        "print('ㅇ 첨가\\ncase 1: {} -> {}\\ncase 2: {} -> {}'.format('용용죽겠지', o_addition('용용죽겠지'),\r\n",
        "                                                  '용용죽겠징', o_addition('용용죽겠징')))"
      ],
      "execution_count": 11,
      "outputs": [
        {
          "output_type": "stream",
          "text": [
            "ㅇ 첨가\n",
            "case 1: 용용죽겠지 -> False\n",
            "case 2: 용용죽겠징 -> True\n"
          ],
          "name": "stdout"
        }
      ]
    },
    {
      "cell_type": "markdown",
      "metadata": {
        "id": "HDraD7pKrIvI"
      },
      "source": [
        "## 축약\r\n",
        "조건 : 음절의 중성, &nbsp;종성이 존재함 <br>\r\n",
        "어절의 모든 음절이 조건을 만족하는 어절을 추출 후 확인<br><br>\r\n",
        "\r\n",
        "-문제점-<br>\r\n",
        "조건을 만족하지 않는 축약어가 다수 존재함.<br><br>\r\n",
        "\r\n",
        "-규칙을 만족하지 않는 축약어 예시-<br>\r\n",
        "존버 :&nbsp; '존나 버티다'&nbsp; 의 축약어<br>\r\n",
        "오저치고 :&nbsp; '오늘 저녁 치킨 고'&nbsp; 의 축약어\r\n",
        "\r\n",
        "\r\n"
      ]
    },
    {
      "cell_type": "code",
      "metadata": {
        "id": "kOOUBI1nrLVF"
      },
      "source": [
        "def abbreviation(word):\r\n",
        "    '''\r\n",
        "    Variables\r\n",
        "        word (String Literal, Argument) : 입력 한글 단어\r\n",
        "        flag (Boolean, Local) : 축약 규칙 만족 여부\r\n",
        "        syllable (List[List[char]], Local) : 단어의 분절 결과\r\n",
        "\r\n",
        "    Return\r\n",
        "        flag (Boolean, Local) : word의 축약 규칙 만족 여부\r\n",
        "    '''\r\n",
        "    flag = True\r\n",
        "    syllable = korean_split(word)\r\n",
        "\r\n",
        "    for syl in syllable:\r\n",
        "        target_1 = syl[1]\r\n",
        "        target_2 = syl[2]\r\n",
        "        if (target_1 == ' ' or target_2 == ' '):\r\n",
        "            flag = False\r\n",
        "            break;\r\n",
        "        else : continue\r\n",
        "    \r\n",
        "    return flag"
      ],
      "execution_count": 12,
      "outputs": []
    },
    {
      "cell_type": "code",
      "metadata": {
        "colab": {
          "base_uri": "https://localhost:8080/"
        },
        "id": "QpWNangarjGt",
        "outputId": "c025c3f7-a3c6-4362-af77-f7ffc2f859ff"
      },
      "source": [
        "print('축약\\ncase 1: {} -> {}\\ncase 2: {} -> {}'.format('일욜날', abbreviation('일욜날'), \r\n",
        "                                                  '일요일날', abbreviation('일요일날')))"
      ],
      "execution_count": 13,
      "outputs": [
        {
          "output_type": "stream",
          "text": [
            "축약\n",
            "case 1: 일욜날 -> True\n",
            "case 2: 일요일날 -> False\n"
          ],
          "name": "stdout"
        }
      ]
    },
    {
      "cell_type": "code",
      "metadata": {
        "colab": {
          "base_uri": "https://localhost:8080/"
        },
        "id": "nSpSUOO3rl5g",
        "outputId": "72c8c6cd-30be-4527-dc6b-b0df8552d21c"
      },
      "source": [
        "print('축약(반례)\\ncase 1: {} -> {}\\ncase 2: {} -> {}'.format('파리바게트', abbreviation('파리바게트'), \r\n",
        "                                                  '파바', abbreviation('파바')))"
      ],
      "execution_count": 14,
      "outputs": [
        {
          "output_type": "stream",
          "text": [
            "축약(반례)\n",
            "case 1: 파리바게트 -> False\n",
            "case 2: 파바 -> False\n"
          ],
          "name": "stdout"
        }
      ]
    },
    {
      "cell_type": "markdown",
      "metadata": {
        "id": "a2jv9RlsrLlo"
      },
      "source": [
        "## ㅛ -> ㅕ\r\n",
        "조건 : 어절의 중성이&nbsp; 'ㅕ' +&nbsp; 어절의 종성이 &nbsp;'&emsp;'<br>\r\n",
        "어절의 마지막 음절이 조건을 만족하는 어절을 추출 후 확인"
      ]
    },
    {
      "cell_type": "code",
      "metadata": {
        "id": "zQTrPJ9grOLW"
      },
      "source": [
        "def yo_to_yeo(word):\r\n",
        "    '''\r\n",
        "    Variables\r\n",
        "        word (String Literal, Argument) : 입력 한글 단어\r\n",
        "        flag (Boolean, Local) : ㅛ->ㅕ 규칙 만족 여부\r\n",
        "        syllable (List[List[char]], Local) : 단어의 분절 결과\r\n",
        "\r\n",
        "    Return\r\n",
        "        flag (Boolean, Local) : word의 ㅛ->ㅕ 규칙 만족 여부\r\n",
        "    '''\r\n",
        "    flag = False\r\n",
        "    syllable = korean_split(word)\r\n",
        "\r\n",
        "    target_1 = syllable[-1][1]\r\n",
        "    target_2 = syllable[-1][2]\r\n",
        "\r\n",
        "    if (target_1 == 'ㅕ' and target_2 == ' '):\r\n",
        "        flag = True\r\n",
        "    \r\n",
        "    return flag"
      ],
      "execution_count": 15,
      "outputs": []
    },
    {
      "cell_type": "code",
      "metadata": {
        "colab": {
          "base_uri": "https://localhost:8080/"
        },
        "id": "H2ta_otAsD3g",
        "outputId": "03b03259-118a-442a-eebe-538be65a1a3b"
      },
      "source": [
        "print('ㅛ -> ㅕ\\ncase 1: {} -> {}\\ncase 2: {} -> {}'.format('좋아여', yo_to_yeo('좋아여'),\r\n",
        "                                                  '좋아요', yo_to_yeo('좋아요')))"
      ],
      "execution_count": 16,
      "outputs": [
        {
          "output_type": "stream",
          "text": [
            "ㅛ -> ㅕ\n",
            "case 1: 좋아여 -> True\n",
            "case 2: 좋아요 -> False\n"
          ],
          "name": "stdout"
        }
      ]
    },
    {
      "cell_type": "markdown",
      "metadata": {
        "id": "D8bjS2mcrOw8"
      },
      "source": [
        "## ㅜ \r\n",
        "조건 : 어절의 중성이 &nbsp;'ㅜ' &nbsp;+ &nbsp;어절의 종성이 &nbsp;'&emsp;'<br>\r\n",
        "\r\n",
        "case 1) 어절의 마지막 음절이 조건을 만족\r\n",
        "\r\n",
        "case 2) 어절 첫 음절이 조건을 만족"
      ]
    },
    {
      "cell_type": "code",
      "metadata": {
        "id": "9ZkzxS6drSwj"
      },
      "source": [
        "def woo(word):\r\n",
        "    '''\r\n",
        "    Variables\r\n",
        "        word (String Literal, Argument) : 입력 한글 단어\r\n",
        "        flag (Boolean, Local) : ㅜ 규칙 만족 여부\r\n",
        "        syllable (List[List[char]], Local) : 단어의 분절 결과\r\n",
        "\r\n",
        "    Return\r\n",
        "        flag (Boolean, Local) : word의 ㅜ 규칙 만족 여부\r\n",
        "    '''\r\n",
        "    flag = False\r\n",
        "    syllable = korean_split(word)\r\n",
        "\r\n",
        "    # case 1\r\n",
        "    target_1 = syllable[-1][1]\r\n",
        "    target_2 = syllable[-1][2]\r\n",
        "\r\n",
        "    if (target_1 == 'ㅜ' and target_2 == ' '):\r\n",
        "        flag = True\r\n",
        "\r\n",
        "    # case 2\r\n",
        "    target_1 = syllable[0][1]\r\n",
        "    target_2 = syllable[0][2]\r\n",
        "\r\n",
        "    if (target_1 == 'ㅜ' and target_2 == ' '):\r\n",
        "        flag = True\r\n",
        "\r\n",
        "    return flag"
      ],
      "execution_count": 17,
      "outputs": []
    },
    {
      "cell_type": "code",
      "metadata": {
        "colab": {
          "base_uri": "https://localhost:8080/"
        },
        "id": "tZSLlDCBsPMN",
        "outputId": "a8064a3c-edfb-44ae-bd04-2178feb90c8c"
      },
      "source": [
        "print('ㅜ\\ncase 1: {} -> {}\\ncase 2: {} -> {}'.format('좋구', woo('좋구'),\r\n",
        "                                                  '좋고', woo('좋고')))"
      ],
      "execution_count": 18,
      "outputs": [
        {
          "output_type": "stream",
          "text": [
            "ㅜ\n",
            "case 1: 좋구 -> True\n",
            "case 2: 좋고 -> False\n"
          ],
          "name": "stdout"
        }
      ]
    },
    {
      "cell_type": "code",
      "metadata": {
        "colab": {
          "base_uri": "https://localhost:8080/"
        },
        "id": "DTLrmerHsPow",
        "outputId": "0f13dd0d-4119-4ed7-8480-15cf4e6e6920"
      },
      "source": [
        "print('ㅜ\\ncase 1: {} -> {}\\ncase 2: {} -> {}'.format('구래', woo('구래'),\r\n",
        "                                                  '그래', woo('그래')))"
      ],
      "execution_count": 19,
      "outputs": [
        {
          "output_type": "stream",
          "text": [
            "ㅜ\n",
            "case 1: 구래 -> True\n",
            "case 2: 그래 -> False\n"
          ],
          "name": "stdout"
        }
      ]
    },
    {
      "cell_type": "markdown",
      "metadata": {
        "id": "dOC_YlTXsRdf"
      },
      "source": [
        "## 4가지 조건 분석\r\n",
        "<br>\r\n",
        "\r\n",
        "ㅇ 첨가, 축약, ㅛ->ㅕ, ㅜ 조건을 검사해서 리스트로 반환한다."
      ]
    },
    {
      "cell_type": "code",
      "metadata": {
        "id": "l6Xiyqxusn32"
      },
      "source": [
        "def check_4_conditions(word):\r\n",
        "    '''\r\n",
        "    Variables\r\n",
        "        word (String Literal, Argument) : 입력 한글 단어\r\n",
        "        flag_table (List[Boolean], Local) : word의 규칙 4종에 대한 각각의 만족 여부\r\n",
        "\r\n",
        "    Return\r\n",
        "        flag_table (List[Boolean], Local) : word의 규칙 [ㅇ첨가, 축약, ㅛ->ㅕ, ㅜ]에 대한 각각의 만족 여부.\r\n",
        "    '''\r\n",
        "    flag_table = []\r\n",
        "\r\n",
        "    # ㅇ 첨가\r\n",
        "    flag_table.append(o_addition(word))\r\n",
        "    # 축약\r\n",
        "    flag_table.append(abbreviation(word))\r\n",
        "    # ㅛ -> ㅕ\r\n",
        "    flag_table.append(yo_to_yeo(word))\r\n",
        "    # ㅜ\r\n",
        "    flag_table.append(woo(word))\r\n",
        "\r\n",
        "    return flag_table"
      ],
      "execution_count": 20,
      "outputs": []
    },
    {
      "cell_type": "code",
      "metadata": {
        "colab": {
          "base_uri": "https://localhost:8080/"
        },
        "id": "3FGvnPKnssUq",
        "outputId": "dc08feba-26fc-4b35-f228-aad7feeaa9a4"
      },
      "source": [
        "check_4_conditions('구랭')"
      ],
      "execution_count": 21,
      "outputs": [
        {
          "output_type": "execute_result",
          "data": {
            "text/plain": [
              "[True, False, False, True]"
            ]
          },
          "metadata": {
            "tags": []
          },
          "execution_count": 21
        }
      ]
    }
  ]
}